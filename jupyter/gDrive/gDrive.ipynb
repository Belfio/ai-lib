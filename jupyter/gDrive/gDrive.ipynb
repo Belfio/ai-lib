{
 "cells": [
  {
   "cell_type": "code",
   "execution_count": 3,
   "metadata": {},
   "outputs": [
    {
     "ename": "UnboundLocalError",
     "evalue": "cannot access local variable 'drive' where it is not associated with a value",
     "output_type": "error",
     "traceback": [
      "\u001b[0;31m---------------------------------------------------------------------------\u001b[0m",
      "\u001b[0;31mUnboundLocalError\u001b[0m                         Traceback (most recent call last)",
      "Cell \u001b[0;32mIn[3], line 31\u001b[0m\n\u001b[1;32m     27\u001b[0m     \u001b[38;5;28mprint\u001b[39m(e)\n\u001b[1;32m     30\u001b[0m \u001b[38;5;28;01mif\u001b[39;00m \u001b[38;5;18m__name__\u001b[39m \u001b[38;5;241m==\u001b[39m \u001b[38;5;124m\"\u001b[39m\u001b[38;5;124m__main__\u001b[39m\u001b[38;5;124m\"\u001b[39m:\n\u001b[0;32m---> 31\u001b[0m   \u001b[43mmain\u001b[49m\u001b[43m(\u001b[49m\u001b[43m)\u001b[49m\n",
      "Cell \u001b[0;32mIn[3], line 18\u001b[0m, in \u001b[0;36mmain\u001b[0;34m()\u001b[0m\n\u001b[1;32m     14\u001b[0m \u001b[38;5;250m\u001b[39m\u001b[38;5;124;03m\"\"\"Shows basic usage of the Drive v3 API.\u001b[39;00m\n\u001b[1;32m     15\u001b[0m \u001b[38;5;124;03mPrints the names and ids of the first 10 files the user has access to.\u001b[39;00m\n\u001b[1;32m     16\u001b[0m \u001b[38;5;124;03m\"\"\"\u001b[39;00m\n\u001b[1;32m     17\u001b[0m creds \u001b[38;5;241m=\u001b[39m get_credentials()\n\u001b[0;32m---> 18\u001b[0m \u001b[43mdrive\u001b[49m\u001b[38;5;241m.\u001b[39minitialize_drive(creds)\n\u001b[1;32m     19\u001b[0m drive\u001b[38;5;241m.\u001b[39mlist_files()\n\u001b[1;32m     20\u001b[0m \u001b[38;5;28;01mtry\u001b[39;00m:\n",
      "\u001b[0;31mUnboundLocalError\u001b[0m: cannot access local variable 'drive' where it is not associated with a value"
     ]
    }
   ],
   "source": [
    "# Let's get the files from the gDrive\n",
    "\n",
    "\n",
    "import os.path\n",
    "\n",
    "\n",
    "from drive_login import get_credentials\n",
    "from drive_operations import DriveOperations\n",
    "# If modifying these scopes, delete the file token.json.\n",
    "SCOPES = [\"https://www.googleapis.com/auth/drive.metadata.readonly\"]\n",
    "\n",
    "\n",
    "def main():\n",
    "  \"\"\"Shows basic usage of the Drive v3 API.\n",
    "  Prints the names and ids of the first 10 files the user has access to.\n",
    "  \"\"\"\n",
    "  creds = get_credentials()\n",
    "  try:\n",
    "    drive = DriveOperations(creds)\n",
    "    items = drive.list_files()\n",
    "\n",
    "    for item in items:\n",
    "      print(f\"{item['name']} ({item['id']})\")\n",
    "  except Exception as e:\n",
    "    print(e)\n",
    "  \n",
    "\n",
    "if __name__ == \"__main__\":\n",
    "  main()"
   ]
  }
 ],
 "metadata": {
  "kernelspec": {
   "display_name": "Python 3",
   "language": "python",
   "name": "python3"
  },
  "language_info": {
   "codemirror_mode": {
    "name": "ipython",
    "version": 3
   },
   "file_extension": ".py",
   "mimetype": "text/x-python",
   "name": "python",
   "nbconvert_exporter": "python",
   "pygments_lexer": "ipython3",
   "version": "3.11.1"
  }
 },
 "nbformat": 4,
 "nbformat_minor": 2
}
